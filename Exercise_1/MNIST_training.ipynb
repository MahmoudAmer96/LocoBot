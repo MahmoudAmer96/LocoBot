{
 "cells": [
  {
   "cell_type": "code",
   "execution_count": 13,
   "metadata": {},
   "outputs": [],
   "source": [
    "import torch\n",
    "import torchvision\n",
    "from torch import nn\n",
    "from torch.utils import data\n",
    "import matplotlib.pyplot as plt\n",
    "import time\n",
    "\n",
    "device = torch.device('cuda:0' if torch.cuda.is_available() else 'cpu')"
   ]
  },
  {
   "cell_type": "code",
   "execution_count": 14,
   "metadata": {},
   "outputs": [],
   "source": [
    "# Alexnet\n",
    "net = nn.Sequential(\n",
    "    nn.Conv2d(1, 96, kernel_size = 11, stride = 4, padding = 1), nn.ReLU(),\n",
    "    nn.MaxPool2d(kernel_size = 3, stride = 2),\n",
    "    nn.Conv2d(96, 256, kernel_size = 5, padding = 2), nn.ReLU(),\n",
    "    nn.MaxPool2d(kernel_size = 3, stride = 2),\n",
    "    nn.Conv2d(256, 384, kernel_size = 3, padding = 1), nn.ReLU(),\n",
    "    nn.Conv2d(384, 384, kernel_size = 3, padding = 1), nn.ReLU(),\n",
    "    nn.Conv2d(384, 256, kernel_size = 3, padding = 1), nn.ReLU(),\n",
    "    nn.MaxPool2d(kernel_size = 3, stride = 2), nn.Flatten(),\n",
    "    nn.Linear(6400, 4096), nn.ReLU(), nn.Dropout(p = 0.5),\n",
    "    nn.Linear(4096, 4096), nn.ReLU(), nn.Dropout(p = 0.5),\n",
    "    nn.Linear(4096, 10))"
   ]
  },
  {
   "cell_type": "code",
   "execution_count": 15,
   "metadata": {},
   "outputs": [
    {
     "name": "stdout",
     "output_type": "stream",
     "text": [
      "Conv2d Output shape:\t torch.Size([1, 96, 54, 54])\n",
      "ReLU Output shape:\t torch.Size([1, 96, 54, 54])\n",
      "MaxPool2d Output shape:\t torch.Size([1, 96, 26, 26])\n",
      "Conv2d Output shape:\t torch.Size([1, 256, 26, 26])\n",
      "ReLU Output shape:\t torch.Size([1, 256, 26, 26])\n",
      "MaxPool2d Output shape:\t torch.Size([1, 256, 12, 12])\n",
      "Conv2d Output shape:\t torch.Size([1, 384, 12, 12])\n",
      "ReLU Output shape:\t torch.Size([1, 384, 12, 12])\n",
      "Conv2d Output shape:\t torch.Size([1, 384, 12, 12])\n",
      "ReLU Output shape:\t torch.Size([1, 384, 12, 12])\n",
      "Conv2d Output shape:\t torch.Size([1, 256, 12, 12])\n",
      "ReLU Output shape:\t torch.Size([1, 256, 12, 12])\n",
      "MaxPool2d Output shape:\t torch.Size([1, 256, 5, 5])\n",
      "Flatten Output shape:\t torch.Size([1, 6400])\n",
      "Linear Output shape:\t torch.Size([1, 4096])\n",
      "ReLU Output shape:\t torch.Size([1, 4096])\n",
      "Dropout Output shape:\t torch.Size([1, 4096])\n",
      "Linear Output shape:\t torch.Size([1, 4096])\n",
      "ReLU Output shape:\t torch.Size([1, 4096])\n",
      "Dropout Output shape:\t torch.Size([1, 4096])\n",
      "Linear Output shape:\t torch.Size([1, 10])\n"
     ]
    }
   ],
   "source": [
    "# print the output shape of the net\n",
    "X = torch.randn(1, 1, 224, 224)\n",
    "for layer in net:\n",
    "    X = layer(X)\n",
    "    print(layer.__class__.__name__, 'Output shape:\\t', X.shape)"
   ]
  },
  {
   "cell_type": "code",
   "execution_count": 16,
   "metadata": {},
   "outputs": [],
   "source": [
    "batch_size = 64\n",
    "resize = 224\n",
    "trans = torchvision.transforms.Compose([torchvision.transforms.Resize(resize),\n",
    "                                        torchvision.transforms.ToTensor()])\n",
    "# training dataset\n",
    "train_dataset = torchvision.datasets.MNIST(root = '../data/', train = True, transform = trans, download = True)\n",
    "train_loader = data.DataLoader(dataset = train_dataset, batch_size = batch_size, shuffle = True)\n",
    "#testing dataset\n",
    "test_dataset = torchvision.datasets.MNIST(root = '../data/', train = False, transform = trans, download = True)\n",
    "test_loader = data.DataLoader(dataset = test_dataset, batch_size = batch_size, shuffle = True)"
   ]
  },
  {
   "cell_type": "code",
   "execution_count": 17,
   "metadata": {},
   "outputs": [],
   "source": [
    "# define optimizer\n",
    "learning_rate = 0.01\n",
    "momentum = 0.5\n",
    "optimizer = torch.optim.SGD(net.parameters(), lr = learning_rate, momentum = momentum)"
   ]
  },
  {
   "cell_type": "code",
   "execution_count": 18,
   "metadata": {},
   "outputs": [
    {
     "name": "stdout",
     "output_type": "stream",
     "text": [
      "[epoch 1] train_loss: 1.836, test_accuracy: 59.522\n",
      "time: {66}\n",
      "\n",
      "[epoch 2] train_loss: 0.138, test_accuracy: 62.197\n",
      "time: {65}\n",
      "\n",
      "[epoch 3] train_loss: 0.074, test_accuracy: 62.924\n",
      "time: {65}\n",
      "\n",
      "[epoch 4] train_loss: 0.054, test_accuracy: 62.822\n",
      "time: {65}\n",
      "\n",
      "[epoch 5] train_loss: 0.045, test_accuracy: 63.102\n",
      "time: {65}\n",
      "\n",
      "[epoch 6] train_loss: 0.036, test_accuracy: 63.013\n",
      "time: {65}\n",
      "\n",
      "[epoch 7] train_loss: 0.032, test_accuracy: 63.159\n",
      "time: {64}\n",
      "\n",
      "[epoch 8] train_loss: 0.028, test_accuracy: 63.121\n",
      "time: {65}\n",
      "\n",
      "[epoch 9] train_loss: 0.024, test_accuracy: 63.127\n",
      "time: {65}\n",
      "\n",
      "[epoch 10] train_loss: 0.021, test_accuracy: 63.153\n",
      "time: {65}\n",
      "\n",
      "[epoch 11] train_loss: 0.018, test_accuracy: 63.287\n",
      "time: {65}\n",
      "\n",
      "[epoch 12] train_loss: 0.017, test_accuracy: 63.255\n",
      "time: {65}\n",
      "\n",
      "[epoch 13] train_loss: 0.015, test_accuracy: 63.210\n",
      "time: {65}\n",
      "\n",
      "[epoch 14] train_loss: 0.014, test_accuracy: 63.274\n",
      "time: {65}\n",
      "\n",
      "[epoch 15] train_loss: 0.012, test_accuracy: 63.268\n",
      "time: {65}\n",
      "\n",
      "Finished training! Best_accuracy: 63.287\n"
     ]
    }
   ],
   "source": [
    "def train(net, num_epochs, train_loader, test_loader):\n",
    "    net.to(device)\n",
    "    loss = nn.CrossEntropyLoss()\n",
    "    best_acc = 0\n",
    "\n",
    "    # training\n",
    "    for epoch in range(num_epochs):\n",
    "        net.train()\n",
    "        train_l = 0.0\n",
    "        time_s = time.perf_counter()\n",
    "        for i, (X, y) in enumerate(train_loader):\n",
    "            optimizer.zero_grad()\n",
    "            X, y = X.to(device), y.to(device)\n",
    "            y_hat = net(X)\n",
    "            l = loss(y_hat, y)\n",
    "            l.backward()\n",
    "            optimizer.step()\n",
    "\n",
    "            train_l += l.item()\n",
    "\n",
    "            '''\n",
    "            rate = (i + 1) / len(train_loader)\n",
    "            a = \"*\" * int(rate * 50)\n",
    "            b = \".\" * int((1 - rate) * 50)\n",
    "            print('\\rtrain loss: {:^3.0f}%[{}->{}] {:.3f}'.format(int(rate * 100), a, b, l, end = \"\"))\n",
    "            '''\n",
    "\n",
    "        net.eval()\n",
    "        test_acc = 0.0\n",
    "        with torch.no_grad():\n",
    "            #for X, y in enumerate(test_loader):\n",
    "            for X, y in test_loader:\n",
    "                #X, y = torch.tensor(X).to(device), torch.tensor(y).to(device)\n",
    "                X, y = X.to(device), y.to(device)\n",
    "                y_hat = torch.max(net(X), dim=1)[1]\n",
    "                #y_hat = net(X)\n",
    "                test_acc += torch.eq(y_hat, y).sum().item()\n",
    "            test_acc /= len(test_loader)\n",
    "            if best_acc < test_acc:\n",
    "                best_acc = test_acc\n",
    "        print('[epoch %d] train_loss: %.3f, test_accuracy: %.3f' % (epoch + 1, train_l / i, test_acc))\n",
    "        print('time: {%d}\\n' % (int(time.perf_counter() - time_s)))\n",
    "\n",
    "    print('Finished training! Best_accuracy: %.3f' % (best_acc))\n",
    "\n",
    "num_epochs = 15\n",
    "train(net, num_epochs, train_loader, test_loader)\n",
    "\n"
   ]
  }
 ],
 "metadata": {
  "kernelspec": {
   "display_name": "pytorch",
   "language": "python",
   "name": "python3"
  },
  "language_info": {
   "codemirror_mode": {
    "name": "ipython",
    "version": 3
   },
   "file_extension": ".py",
   "mimetype": "text/x-python",
   "name": "python",
   "nbconvert_exporter": "python",
   "pygments_lexer": "ipython3",
   "version": "3.11.8"
  }
 },
 "nbformat": 4,
 "nbformat_minor": 2
}
