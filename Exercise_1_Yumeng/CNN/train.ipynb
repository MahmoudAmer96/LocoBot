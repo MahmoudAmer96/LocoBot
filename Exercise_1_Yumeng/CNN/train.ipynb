{
 "cells": [
  {
   "cell_type": "code",
   "execution_count": 127,
   "metadata": {},
   "outputs": [
    {
     "name": "stdout",
     "output_type": "stream",
     "text": [
      "cuda:0\n"
     ]
    }
   ],
   "source": [
    "import torch\n",
    "import torchvision\n",
    "from torch import nn\n",
    "from torch.utils import data\n",
    "import matplotlib.pyplot as plt\n",
    "import time\n",
    "from model import AlexNet\n",
    "\n",
    "device = torch.device('cuda:0' if torch.cuda.is_available() else 'cpu')\n",
    "print(device)"
   ]
  },
  {
   "cell_type": "code",
   "execution_count": 128,
   "metadata": {},
   "outputs": [],
   "source": [
    "def load_data_MNIST(batch_size, resize, trans):\n",
    "    # training dataset\n",
    "    train_dataset = torchvision.datasets.MNIST(root = '../data/', train = True, transform = trans, download = True)\n",
    "    train_loader = data.DataLoader(dataset = train_dataset, batch_size = batch_size, shuffle = True)\n",
    "    #testing dataset\n",
    "    test_dataset = torchvision.datasets.MNIST(root = '../data/', train = False, transform = trans, download = True)\n",
    "    test_loader = data.DataLoader(dataset = test_dataset, batch_size = batch_size, shuffle = True)\n",
    "    return train_loader, test_loader"
   ]
  },
  {
   "cell_type": "code",
   "execution_count": 129,
   "metadata": {},
   "outputs": [],
   "source": [
    "def train(net, optimizer, loss, num_epochs, train_loader, test_loader):\n",
    "    net.to(device)\n",
    "    best_acc = 0\n",
    "\n",
    "    for epoch in range(num_epochs):\n",
    "        # train\n",
    "        net.train()\n",
    "        train_l = 0.0\n",
    "        time_s = time.perf_counter()\n",
    "        for i, (inputs, labels) in enumerate(train_loader):\n",
    "            optimizer.zero_grad()\n",
    "            inputs, labels = inputs.to(device), labels.to(device)\n",
    "            outputs = net(inputs)\n",
    "            l = loss(outputs, labels)\n",
    "            l.backward()\n",
    "            optimizer.step()\n",
    "\n",
    "            train_l += l.item()\n",
    "\n",
    "        # test\n",
    "        net.eval()\n",
    "        test_acc = 0.0\n",
    "        with torch.no_grad():\n",
    "            for inputs, labels in test_loader:\n",
    "                inputs, labels = inputs.to(device), labels.to(device)\n",
    "                outputs = torch.max(net(inputs), dim = 1)[1]            # outputs: [batch, classes], torch.max: [max_item, max_pos]\n",
    "                test_acc += torch.eq(outputs, labels).sum().item()\n",
    "            test_acc /= len(test_loader)\n",
    "            if best_acc < test_acc:\n",
    "                best_acc = test_acc\n",
    "\n",
    "        print('[epoch %d] train_loss: %.3f, test_accuracy: %.2f%%, time: %ds' % (epoch + 1, train_l / i, test_acc, (int(time.perf_counter() - time_s))))\n",
    "\n",
    "    print('Finished training! Best_accuracy: %.2f%%' % (best_acc))"
   ]
  },
  {
   "cell_type": "code",
   "execution_count": 130,
   "metadata": {},
   "outputs": [],
   "source": [
    "def main():\n",
    "    # set net\n",
    "    net = AlexNet(num_classes = 10, init_weights = True)\n",
    "\n",
    "    # set datasets\n",
    "    batch_size = 64\n",
    "    resize = 224\n",
    "    trans = torchvision.transforms.Compose([torchvision.transforms.Resize(resize),\n",
    "                                        torchvision.transforms.ToTensor()])\n",
    "    train_loader, test_loader = load_data_MNIST(batch_size, resize, trans)\n",
    "\n",
    "    # set optimizer and loss\n",
    "    learning_rate = 0.001\n",
    "    momentum = 0.5\n",
    "    optimizer = torch.optim.SGD(net.parameters(), lr = learning_rate, momentum = momentum)\n",
    "    loss = nn.CrossEntropyLoss()\n",
    "\n",
    "    # start training\n",
    "    num_epochs = 15\n",
    "    train(net, optimizer, loss, num_epochs, train_loader, test_loader)"
   ]
  },
  {
   "cell_type": "code",
   "execution_count": 131,
   "metadata": {},
   "outputs": [
    {
     "name": "stdout",
     "output_type": "stream",
     "text": [
      "[epoch 1] train_loss: 2.059, test_accuracy: 54.03%, time: 66s\n",
      "[epoch 2] train_loss: 0.359, test_accuracy: 61.30%, time: 66s\n",
      "[epoch 3] train_loss: 0.165, test_accuracy: 61.99%, time: 65s\n",
      "[epoch 4] train_loss: 0.125, test_accuracy: 62.29%, time: 66s\n",
      "[epoch 5] train_loss: 0.101, test_accuracy: 62.55%, time: 65s\n",
      "[epoch 6] train_loss: 0.089, test_accuracy: 62.67%, time: 65s\n",
      "[epoch 7] train_loss: 0.077, test_accuracy: 62.76%, time: 65s\n",
      "[epoch 8] train_loss: 0.072, test_accuracy: 62.90%, time: 65s\n",
      "[epoch 9] train_loss: 0.064, test_accuracy: 62.96%, time: 65s\n",
      "[epoch 10] train_loss: 0.059, test_accuracy: 62.97%, time: 65s\n",
      "[epoch 11] train_loss: 0.057, test_accuracy: 63.08%, time: 65s\n",
      "[epoch 12] train_loss: 0.052, test_accuracy: 63.05%, time: 65s\n",
      "[epoch 13] train_loss: 0.050, test_accuracy: 63.11%, time: 65s\n",
      "[epoch 14] train_loss: 0.047, test_accuracy: 63.06%, time: 64s\n",
      "[epoch 15] train_loss: 0.045, test_accuracy: 63.16%, time: 65s\n",
      "Finished training! Best_accuracy: 63.16%\n"
     ]
    }
   ],
   "source": [
    "if __name__ == '__main__':\n",
    "    main()"
   ]
  }
 ],
 "metadata": {
  "kernelspec": {
   "display_name": "pytorch",
   "language": "python",
   "name": "python3"
  },
  "language_info": {
   "codemirror_mode": {
    "name": "ipython",
    "version": 3
   },
   "file_extension": ".py",
   "mimetype": "text/x-python",
   "name": "python",
   "nbconvert_exporter": "python",
   "pygments_lexer": "ipython3",
   "version": "3.11.8"
  }
 },
 "nbformat": 4,
 "nbformat_minor": 2
}
